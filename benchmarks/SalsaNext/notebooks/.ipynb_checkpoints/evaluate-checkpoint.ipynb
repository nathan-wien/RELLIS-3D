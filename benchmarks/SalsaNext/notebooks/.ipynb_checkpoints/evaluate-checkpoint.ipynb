{
 "cells": [
  {
   "cell_type": "code",
   "execution_count": 43,
   "id": "4193af0b",
   "metadata": {},
   "outputs": [],
   "source": [
    "import os\n",
    "import yaml\n",
    "\n",
    "import numpy as np\n",
    "import seaborn as sns"
   ]
  },
  {
   "cell_type": "code",
   "execution_count": 71,
   "id": "ef3595b2",
   "metadata": {},
   "outputs": [],
   "source": [
    "HOMEDIR = os.environ['HOME']\n",
    "COURSEDIR = f\"{HOMEDIR}/work/uq/engg4811\"\n",
    "PREDDIR = f\"{COURSEDIR}/trainlogs/bracewell01/logs/salsa\" #2021-10-12-16:20rellis  salsa\n",
    "DATADIR = f\"{COURSEDIR}/datasets/Rellis-3D\""
   ]
  },
  {
   "cell_type": "code",
   "execution_count": 51,
   "id": "d81c2cf7",
   "metadata": {},
   "outputs": [],
   "source": [
    "dataset_config_file = \"../train/tasks/semantic/config/labels/rellis.yaml\""
   ]
  },
  {
   "cell_type": "code",
   "execution_count": 52,
   "id": "5a09057a",
   "metadata": {},
   "outputs": [],
   "source": [
    "dataset_config = yaml.safe_load(open(dataset_config_file, 'r'))"
   ]
  },
  {
   "cell_type": "code",
   "execution_count": 53,
   "id": "550a6dfa",
   "metadata": {},
   "outputs": [
    {
     "data": {
      "text/plain": [
       "{'name': 'rellis',\n",
       " 'labels': {0: 'void',\n",
       "  1: 'dirt',\n",
       "  3: 'grass',\n",
       "  4: 'tree',\n",
       "  5: 'pole',\n",
       "  6: 'water',\n",
       "  7: 'sky',\n",
       "  8: 'vehicle',\n",
       "  9: 'object',\n",
       "  10: 'asphalt',\n",
       "  12: 'building',\n",
       "  15: 'log',\n",
       "  17: 'person',\n",
       "  18: 'fence',\n",
       "  19: 'bush',\n",
       "  23: 'concrete',\n",
       "  27: 'barrier',\n",
       "  31: 'puddle',\n",
       "  33: 'mud',\n",
       "  34: 'rubble'},\n",
       " 'color_map': {0: [0, 0, 0],\n",
       "  1: [108, 64, 20],\n",
       "  3: [0, 102, 0],\n",
       "  4: [0, 255, 0],\n",
       "  5: [0, 153, 153],\n",
       "  6: [0, 128, 255],\n",
       "  7: [0, 0, 255],\n",
       "  8: [255, 255, 0],\n",
       "  9: [255, 0, 127],\n",
       "  10: [64, 64, 64],\n",
       "  12: [255, 0, 0],\n",
       "  15: [102, 0, 0],\n",
       "  17: [204, 153, 255],\n",
       "  18: [102, 0, 204],\n",
       "  19: [255, 153, 204],\n",
       "  23: [170, 170, 170],\n",
       "  27: [41, 121, 255],\n",
       "  31: [134, 255, 239],\n",
       "  33: [99, 66, 34],\n",
       "  34: [110, 22, 138]},\n",
       " 'content': {0: 447156890,\n",
       "  1: 0,\n",
       "  3: 261005182,\n",
       "  4: 107172982,\n",
       "  5: 22852,\n",
       "  6: 224173,\n",
       "  7: 0,\n",
       "  8: 111345,\n",
       "  9: 2,\n",
       "  10: 479,\n",
       "  12: 10,\n",
       "  15: 554091,\n",
       "  17: 10626325,\n",
       "  18: 1588416,\n",
       "  19: 168764964,\n",
       "  23: 10944799,\n",
       "  27: 3502156,\n",
       "  31: 1493276,\n",
       "  33: 5798200,\n",
       "  34: 3395458},\n",
       " 'learning_map': {0: 0,\n",
       "  1: 0,\n",
       "  3: 1,\n",
       "  4: 2,\n",
       "  5: 3,\n",
       "  6: 4,\n",
       "  7: 0,\n",
       "  8: 5,\n",
       "  9: 0,\n",
       "  10: 0,\n",
       "  12: 0,\n",
       "  15: 6,\n",
       "  17: 7,\n",
       "  18: 8,\n",
       "  19: 9,\n",
       "  23: 10,\n",
       "  27: 11,\n",
       "  31: 12,\n",
       "  33: 13,\n",
       "  34: 14},\n",
       " 'learning_map_inv': {0: 0,\n",
       "  1: 3,\n",
       "  2: 4,\n",
       "  3: 5,\n",
       "  4: 6,\n",
       "  5: 8,\n",
       "  6: 15,\n",
       "  7: 17,\n",
       "  8: 18,\n",
       "  9: 19,\n",
       "  10: 23,\n",
       "  11: 27,\n",
       "  12: 31,\n",
       "  13: 33,\n",
       "  14: 34},\n",
       " 'learning_ignore': {0: True,\n",
       "  1: False,\n",
       "  2: False,\n",
       "  3: False,\n",
       "  4: False,\n",
       "  5: False,\n",
       "  6: False,\n",
       "  7: False,\n",
       "  8: False,\n",
       "  9: False,\n",
       "  10: False,\n",
       "  11: False,\n",
       "  12: False,\n",
       "  13: False,\n",
       "  14: False},\n",
       " 'split': {'train': 'pt_train.lst',\n",
       "  'valid': 'pt_val.lst',\n",
       "  'test': 'pt_test.lst'}}"
      ]
     },
     "execution_count": 53,
     "metadata": {},
     "output_type": "execute_result"
    }
   ],
   "source": [
    "dataset_config"
   ]
  },
  {
   "cell_type": "code",
   "execution_count": 54,
   "id": "d9828174",
   "metadata": {},
   "outputs": [
    {
     "data": {
      "text/plain": [
       "{0: 'void',\n",
       " 1: 'dirt',\n",
       " 3: 'grass',\n",
       " 4: 'tree',\n",
       " 5: 'pole',\n",
       " 6: 'water',\n",
       " 7: 'sky',\n",
       " 8: 'vehicle',\n",
       " 9: 'object',\n",
       " 10: 'asphalt',\n",
       " 12: 'building',\n",
       " 15: 'log',\n",
       " 17: 'person',\n",
       " 18: 'fence',\n",
       " 19: 'bush',\n",
       " 23: 'concrete',\n",
       " 27: 'barrier',\n",
       " 31: 'puddle',\n",
       " 33: 'mud',\n",
       " 34: 'rubble'}"
      ]
     },
     "execution_count": 54,
     "metadata": {},
     "output_type": "execute_result"
    }
   ],
   "source": [
    "dataset_config[\"labels\"]"
   ]
  },
  {
   "cell_type": "code",
   "execution_count": 79,
   "id": "665e1d7f",
   "metadata": {},
   "outputs": [],
   "source": [
    "label_filenames = []\n",
    "\n",
    "with open(f'{DATASET_DIR}/pt_test.lst', 'r') as f:\n",
    "    for line in f:\n",
    "        input_file_name, label_filename = line.strip().split(' ')\n",
    "        label_filenames.append(label_filename)\n",
    "#         label_file = f'{DATADIR}/{label_filename}'\n",
    "#         print(f'label file: {label_file}')\n",
    "#         labels = np.fromfile(label_file, dtype=np.int32).reshape((-1))\n",
    "#         pred_file = f'{PREDDIR}/{label_filename}'\n",
    "#         print(f'pred file: {pred_file}')\n",
    "#         pred = np.fromfile(pred_file, dtype=np.int32).reshape((-1))\n",
    "#         labels = np.fromfile(label_file, dtype=np.int32).reshape((-1))\n",
    "#         print(labels)\n",
    "#         print(len(labels))\n",
    "#         break"
   ]
  },
  {
   "cell_type": "code",
   "execution_count": 80,
   "id": "669376d8",
   "metadata": {},
   "outputs": [
    {
     "data": {
      "text/plain": [
       "3343"
      ]
     },
     "execution_count": 80,
     "metadata": {},
     "output_type": "execute_result"
    }
   ],
   "source": [
    "len(label_filenames)"
   ]
  },
  {
   "cell_type": "code",
   "execution_count": 86,
   "id": "b5c397b1",
   "metadata": {},
   "outputs": [],
   "source": [
    "# def get_confusion_matrix(labels, pred):\n",
    "\n",
    "a = np.array([1, 2, 3, 4, 5])"
   ]
  },
  {
   "cell_type": "code",
   "execution_count": 90,
   "id": "eae1c99d",
   "metadata": {},
   "outputs": [
    {
     "data": {
      "text/plain": [
       "array([1, 3, 4, 5])"
      ]
     },
     "execution_count": 90,
     "metadata": {},
     "output_type": "execute_result"
    }
   ],
   "source": [
    "a[a != 2]"
   ]
  },
  {
   "cell_type": "code",
   "execution_count": 1,
   "id": "462233ce",
   "metadata": {},
   "outputs": [],
   "source": [
    "def get_confusion_matrix(labels, pred, nclasses, ignore_class_ids):\n",
    "    for cid in ignore_class_ids:\n",
    "        labels = labels[labels != cid]\n",
    "        pred = pred[pred != cid]\n",
    "    \n",
    "    # compare[i] = labels[i] * nclasses + pred[i]: prediction for\n",
    "    # point i is pred[i] where ground truth is labels[i] \n",
    "    compare = labels * nclasses + pred\n",
    "    bin_count = np.bincount(compare)    \n",
    "    cm = np.zeros((nclasses, nclasses))\n",
    "    for label_cid in range(nclasses):\n",
    "        for pred_cid in range(nclasses):\n",
    "            entry = label_cid * nclasses + pred_cid\n",
    "            cm[label_cid, pred_cid] = bin_count[i]\n",
    "    return cm"
   ]
  },
  {
   "cell_type": "code",
   "execution_count": 92,
   "id": "e7852abd",
   "metadata": {},
   "outputs": [],
   "source": [
    "a = np.array([1, 2, 1, 1, 2])"
   ]
  },
  {
   "cell_type": "code",
   "execution_count": 93,
   "id": "48e270dc",
   "metadata": {},
   "outputs": [
    {
     "data": {
      "text/plain": [
       "array([0, 3, 2])"
      ]
     },
     "execution_count": 93,
     "metadata": {},
     "output_type": "execute_result"
    }
   ],
   "source": [
    "np.bincount(a)"
   ]
  },
  {
   "cell_type": "code",
   "execution_count": 95,
   "id": "71fb9258",
   "metadata": {},
   "outputs": [
    {
     "data": {
      "text/plain": [
       "array([1, 2, 1, 1, 2], dtype=int32)"
      ]
     },
     "execution_count": 95,
     "metadata": {},
     "output_type": "execute_result"
    }
   ],
   "source": [
    "a.flatten().astype('int32')"
   ]
  },
  {
   "cell_type": "code",
   "execution_count": null,
   "id": "550c3467",
   "metadata": {},
   "outputs": [],
   "source": []
  }
 ],
 "metadata": {
  "kernelspec": {
   "display_name": "Python 3 (ipykernel)",
   "language": "python",
   "name": "python3"
  },
  "language_info": {
   "codemirror_mode": {
    "name": "ipython",
    "version": 3
   },
   "file_extension": ".py",
   "mimetype": "text/x-python",
   "name": "python",
   "nbconvert_exporter": "python",
   "pygments_lexer": "ipython3",
   "version": "3.7.4"
  }
 },
 "nbformat": 4,
 "nbformat_minor": 5
}
