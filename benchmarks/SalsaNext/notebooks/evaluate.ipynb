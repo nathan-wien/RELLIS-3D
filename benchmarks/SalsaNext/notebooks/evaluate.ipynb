{
 "cells": [
  {
   "cell_type": "code",
   "execution_count": 1,
   "id": "4193af0b",
   "metadata": {
    "collapsed": true
   },
   "outputs": [
    {
     "name": "stderr",
     "output_type": "stream",
     "text": [
      "\n",
      "Bad key text.latex.unicode in file /home/nhat/miniconda3/envs/salsanext/lib/python3.7/site-packages/matplotlib/mpl-data/stylelib/_classic_test.mplstyle, line 112 ('text.latex.unicode : False # use \"ucs\" and \"inputenc\" LaTeX packages for handling')\n",
      "You probably need to get an updated matplotlibrc file from\n",
      "https://github.com/matplotlib/matplotlib/blob/v3.3.4/matplotlibrc.template\n",
      "or from the matplotlib source distribution\n",
      "\n",
      "Bad key savefig.frameon in file /home/nhat/miniconda3/envs/salsanext/lib/python3.7/site-packages/matplotlib/mpl-data/stylelib/_classic_test.mplstyle, line 423 ('savefig.frameon : True')\n",
      "You probably need to get an updated matplotlibrc file from\n",
      "https://github.com/matplotlib/matplotlib/blob/v3.3.4/matplotlibrc.template\n",
      "or from the matplotlib source distribution\n",
      "\n",
      "Bad key pgf.debug in file /home/nhat/miniconda3/envs/salsanext/lib/python3.7/site-packages/matplotlib/mpl-data/stylelib/_classic_test.mplstyle, line 444 ('pgf.debug           : False')\n",
      "You probably need to get an updated matplotlibrc file from\n",
      "https://github.com/matplotlib/matplotlib/blob/v3.3.4/matplotlibrc.template\n",
      "or from the matplotlib source distribution\n",
      "\n",
      "Bad key verbose.level in file /home/nhat/miniconda3/envs/salsanext/lib/python3.7/site-packages/matplotlib/mpl-data/stylelib/_classic_test.mplstyle, line 475 ('verbose.level  : silent      # one of silent, helpful, debug, debug-annoying')\n",
      "You probably need to get an updated matplotlibrc file from\n",
      "https://github.com/matplotlib/matplotlib/blob/v3.3.4/matplotlibrc.template\n",
      "or from the matplotlib source distribution\n",
      "\n",
      "Bad key verbose.fileo in file /home/nhat/miniconda3/envs/salsanext/lib/python3.7/site-packages/matplotlib/mpl-data/stylelib/_classic_test.mplstyle, line 476 ('verbose.fileo  : sys.stdout  # a log filename, sys.stdout or sys.stderr')\n",
      "You probably need to get an updated matplotlibrc file from\n",
      "https://github.com/matplotlib/matplotlib/blob/v3.3.4/matplotlibrc.template\n",
      "or from the matplotlib source distribution\n",
      "In /home/nhat/miniconda3/envs/salsanext/lib/python3.7/site-packages/matplotlib/mpl-data/stylelib/_classic_test.mplstyle: \n",
      "The text.latex.preview rcparam was deprecated in Matplotlib 3.3 and will be removed two minor releases later.\n",
      "In /home/nhat/miniconda3/envs/salsanext/lib/python3.7/site-packages/matplotlib/mpl-data/stylelib/_classic_test.mplstyle: \n",
      "The mathtext.fallback_to_cm rcparam was deprecated in Matplotlib 3.3 and will be removed two minor releases later.\n",
      "In /home/nhat/miniconda3/envs/salsanext/lib/python3.7/site-packages/matplotlib/mpl-data/stylelib/_classic_test.mplstyle: Support for setting the 'mathtext.fallback_to_cm' rcParam is deprecated since 3.3 and will be removed two minor releases later; use 'mathtext.fallback : 'cm' instead.\n",
      "In /home/nhat/miniconda3/envs/salsanext/lib/python3.7/site-packages/matplotlib/mpl-data/stylelib/_classic_test.mplstyle: \n",
      "The validate_bool_maybe_none function was deprecated in Matplotlib 3.3 and will be removed two minor releases later.\n",
      "In /home/nhat/miniconda3/envs/salsanext/lib/python3.7/site-packages/matplotlib/mpl-data/stylelib/_classic_test.mplstyle: \n",
      "The savefig.jpeg_quality rcparam was deprecated in Matplotlib 3.3 and will be removed two minor releases later.\n",
      "In /home/nhat/miniconda3/envs/salsanext/lib/python3.7/site-packages/matplotlib/mpl-data/stylelib/_classic_test.mplstyle: \n",
      "The keymap.all_axes rcparam was deprecated in Matplotlib 3.3 and will be removed two minor releases later.\n",
      "In /home/nhat/miniconda3/envs/salsanext/lib/python3.7/site-packages/matplotlib/mpl-data/stylelib/_classic_test.mplstyle: \n",
      "The animation.avconv_path rcparam was deprecated in Matplotlib 3.3 and will be removed two minor releases later.\n",
      "In /home/nhat/miniconda3/envs/salsanext/lib/python3.7/site-packages/matplotlib/mpl-data/stylelib/_classic_test.mplstyle: \n",
      "The animation.avconv_args rcparam was deprecated in Matplotlib 3.3 and will be removed two minor releases later.\n"
     ]
    }
   ],
   "source": [
    "import os\n",
    "import yaml\n",
    "\n",
    "import numpy as np\n",
    "import pandas as pd\n",
    "from matplotlib import pyplot as plt\n",
    "import seaborn as sns\n",
    "from tqdm import tqdm, trange"
   ]
  },
  {
   "cell_type": "code",
   "execution_count": 2,
   "id": "ef3595b2",
   "metadata": {},
   "outputs": [],
   "source": [
    "HOMEDIR = os.environ['HOME']\n",
    "COURSEDIR = f\"{HOMEDIR}/work/uq/engg4811\"\n",
    "# PREDDIR = f\"{COURSEDIR}/trainlogs/bracewell01/salsa\" #2021-10-12-16:20rellis  salsa\n",
    "PREDDIR = f\"{COURSEDIR}/trainlogs/ec2-01/salsa\"\n",
    "DATADIR = f\"{COURSEDIR}/datasets/Rellis-3D\""
   ]
  },
  {
   "cell_type": "code",
   "execution_count": 3,
   "id": "5a09057a",
   "metadata": {},
   "outputs": [],
   "source": [
    "DATA_CONFIG_FILE = \"../train/tasks/semantic/config/labels/rellis.yaml\"\n",
    "CONFIG = yaml.safe_load(open(DATA_CONFIG_FILE, 'r'))"
   ]
  },
  {
   "cell_type": "code",
   "execution_count": 58,
   "id": "550a6dfa",
   "metadata": {
    "collapsed": true
   },
   "outputs": [
    {
     "data": {
      "text/plain": [
       "{'name': 'rellis',\n",
       " 'labels': {0: 'void',\n",
       "  1: 'dirt',\n",
       "  3: 'grass',\n",
       "  4: 'tree',\n",
       "  5: 'pole',\n",
       "  6: 'water',\n",
       "  7: 'sky',\n",
       "  8: 'vehicle',\n",
       "  9: 'object',\n",
       "  10: 'asphalt',\n",
       "  12: 'building',\n",
       "  15: 'log',\n",
       "  17: 'person',\n",
       "  18: 'fence',\n",
       "  19: 'bush',\n",
       "  23: 'concrete',\n",
       "  27: 'barrier',\n",
       "  31: 'puddle',\n",
       "  33: 'mud',\n",
       "  34: 'rubble'},\n",
       " 'color_map': {0: [0, 0, 0],\n",
       "  1: [108, 64, 20],\n",
       "  3: [0, 102, 0],\n",
       "  4: [0, 255, 0],\n",
       "  5: [0, 153, 153],\n",
       "  6: [0, 128, 255],\n",
       "  7: [0, 0, 255],\n",
       "  8: [255, 255, 0],\n",
       "  9: [255, 0, 127],\n",
       "  10: [64, 64, 64],\n",
       "  12: [255, 0, 0],\n",
       "  15: [102, 0, 0],\n",
       "  17: [204, 153, 255],\n",
       "  18: [102, 0, 204],\n",
       "  19: [255, 153, 204],\n",
       "  23: [170, 170, 170],\n",
       "  27: [41, 121, 255],\n",
       "  31: [134, 255, 239],\n",
       "  33: [99, 66, 34],\n",
       "  34: [110, 22, 138]},\n",
       " 'content': {0: 447156890,\n",
       "  1: 0,\n",
       "  3: 261005182,\n",
       "  4: 107172982,\n",
       "  5: 22852,\n",
       "  6: 224173,\n",
       "  7: 0,\n",
       "  8: 111345,\n",
       "  9: 2,\n",
       "  10: 479,\n",
       "  12: 10,\n",
       "  15: 554091,\n",
       "  17: 10626325,\n",
       "  18: 1588416,\n",
       "  19: 168764964,\n",
       "  23: 10944799,\n",
       "  27: 3502156,\n",
       "  31: 1493276,\n",
       "  33: 5798200,\n",
       "  34: 3395458},\n",
       " 'learning_map': {0: 0,\n",
       "  1: 0,\n",
       "  3: 1,\n",
       "  4: 2,\n",
       "  5: 3,\n",
       "  6: 4,\n",
       "  7: 0,\n",
       "  8: 5,\n",
       "  9: 0,\n",
       "  10: 0,\n",
       "  12: 0,\n",
       "  15: 6,\n",
       "  17: 7,\n",
       "  18: 8,\n",
       "  19: 9,\n",
       "  23: 10,\n",
       "  27: 11,\n",
       "  31: 12,\n",
       "  33: 13,\n",
       "  34: 14},\n",
       " 'learning_map_inv': {0: 0,\n",
       "  1: 3,\n",
       "  2: 4,\n",
       "  3: 5,\n",
       "  4: 6,\n",
       "  5: 8,\n",
       "  6: 15,\n",
       "  7: 17,\n",
       "  8: 18,\n",
       "  9: 19,\n",
       "  10: 23,\n",
       "  11: 27,\n",
       "  12: 31,\n",
       "  13: 33,\n",
       "  14: 34},\n",
       " 'learning_ignore': {0: True,\n",
       "  1: False,\n",
       "  2: False,\n",
       "  3: False,\n",
       "  4: False,\n",
       "  5: False,\n",
       "  6: False,\n",
       "  7: False,\n",
       "  8: False,\n",
       "  9: False,\n",
       "  10: False,\n",
       "  11: False,\n",
       "  12: False,\n",
       "  13: False,\n",
       "  14: False},\n",
       " 'split': {'train': 'pt_train.lst',\n",
       "  'valid': 'pt_val.lst',\n",
       "  'test': 'pt_test.lst'}}"
      ]
     },
     "execution_count": 58,
     "metadata": {},
     "output_type": "execute_result"
    }
   ],
   "source": [
    "CONFIG"
   ]
  },
  {
   "cell_type": "code",
   "execution_count": 4,
   "id": "438d5c37",
   "metadata": {},
   "outputs": [],
   "source": [
    "# Map labels to class ids\n",
    "CID_MAP = CONFIG['learning_map']"
   ]
  },
  {
   "cell_type": "code",
   "execution_count": 5,
   "id": "492cb822",
   "metadata": {},
   "outputs": [],
   "source": [
    "# Map class ids to class names\n",
    "NAME_MAP = dict()\n",
    "for cid, label in CONFIG['learning_map_inv'].items():\n",
    "    NAME_MAP[cid] = CONFIG['labels'][label]\n",
    "    \n",
    "CLASS_NAMES = [NAME_MAP[i] for i in range(len(NAME_MAP))]"
   ]
  },
  {
   "cell_type": "code",
   "execution_count": 14,
   "id": "858176eb",
   "metadata": {},
   "outputs": [],
   "source": [
    "\"\"\"\n",
    "Get a vector of labels\n",
    "\"\"\"\n",
    "def get_labels(filepath):\n",
    "    return np.fromfile(filepath, dtype=np.int32).reshape((-1))"
   ]
  },
  {
   "cell_type": "code",
   "execution_count": 7,
   "id": "bf795cde",
   "metadata": {},
   "outputs": [],
   "source": [
    "\"\"\"\n",
    "Convert a label vector to a class id vector\n",
    "\"\"\"\n",
    "def labels_to_cids(labels):\n",
    "    tmp = labels.copy()\n",
    "    for k, v in CID_MAP.items():\n",
    "        labels[tmp == k] = v\n",
    "    return labels"
   ]
  },
  {
   "cell_type": "code",
   "execution_count": 8,
   "id": "dfc0ee44",
   "metadata": {},
   "outputs": [],
   "source": [
    "\"\"\"\n",
    "Get confusion matrix given a ground truth vector and a prediction vector\n",
    "\n",
    "g -- ground truth\n",
    "p -- prediction\n",
    "n -- number of classes\n",
    "ignore -- ignore class ids\n",
    "\n",
    "\"\"\"\n",
    "def calc_confusion_matrix(g, p, n, ignore_class_ids):\n",
    "    for cid in ignore_class_ids:\n",
    "        g = g[g != cid]\n",
    "        p = p[p != cid]\n",
    "    \n",
    "    # compare[i] = g[i] * n + p[i]: prediction for\n",
    "    # point i is pred[i] where ground truth is labels[i]\n",
    "    compare = g * n + p\n",
    "    \n",
    "    # bins[g[i] * n + p[j]]: number of points with\n",
    "    #     ground-truth g[i] and are predicted to be p[j]\n",
    "    bins = np.bincount(compare)\n",
    "    # pad with zeros\n",
    "    bins = np.pad(bins, (0, n * n - len(bins)), 'constant')\n",
    "    assert(bins.shape[0] == n * n)\n",
    "    \n",
    "    cm = np.zeros((n, n), dtype=np.int32)\n",
    "    for gcid in range(n):\n",
    "        for pcid in range(n):\n",
    "            cm[gcid, pcid] = bins[gcid * n + pcid]\n",
    "    return cm"
   ]
  },
  {
   "cell_type": "code",
   "execution_count": 64,
   "id": "bceed34c",
   "metadata": {},
   "outputs": [],
   "source": [
    "def plot_iou(title, iou):\n",
    "    fig = plt.figure()\n",
    "    ax = fig.add_axes([0, 0, 1.5, 1.5])\n",
    "    ax.bar(CLASS_NAMES, iou)\n",
    "    ax.set_xlabel('Semantic classes')\n",
    "    ax.set_ylabel('IoU')\n",
    "    ax.set_title(f'IoU of all semantic classes\\n{title}')\n",
    "    plt.show()\n",
    "\n",
    "# plot_iou('SalsaNext training on 1 GPU, batch size = 7')"
   ]
  },
  {
   "cell_type": "code",
   "execution_count": 22,
   "id": "b08a7d47",
   "metadata": {},
   "outputs": [],
   "source": [
    "class Evaluator:\n",
    "    def __init__(self, data_dir, pred_dir, desc):\n",
    "        self.data_dir = data_dir\n",
    "        self.pred_dir = pred_dir\n",
    "        self.desc = desc\n",
    "        self.iou = None\n",
    "        self.mean_iou = None\n",
    "\n",
    "    def calc_iou(self):\n",
    "        label_filenames = []\n",
    "\n",
    "        with open(f'{self.data_dir}/pt_test.lst', 'r') as f:\n",
    "            for line in f:\n",
    "                input_file_name, label_filename = line.strip().split(' ')\n",
    "                label_filenames.append(label_filename)\n",
    "\n",
    "        n = len(CLASS_NAMES)\n",
    "        cm = np.zeros((n, n), dtype=np.int32)\n",
    "\n",
    "        for fname in tqdm(label_filenames):\n",
    "            glabels = get_labels(f'{self.data_dir}/{fname}')\n",
    "            plabels = get_labels(f'{self.pred_dir}/{fname}')\n",
    "            g = labels_to_cids(glabels)\n",
    "            p = labels_to_cids(plabels)\n",
    "            bins = np.bincount(g)\n",
    "            cm += calc_confusion_matrix(g, p, n, [])\n",
    "\n",
    "        iou = (np.diag(cm) / np.maximum(1.0, cm.sum(axis=1) + cm.sum(axis=0) - np.diag(cm)))\n",
    "        self.iou = iou\n",
    "        self.mean_iou = iou.mean()\n",
    "        return self.iou, self.mean_iou\n",
    "    \n",
    "    def plot_iou(self):\n",
    "        fig = plt.figure()\n",
    "        ax = fig.add_axes([0, 0, 1.5, 1.5])\n",
    "        ax.bar(CLASS_NAMES, self.iou)\n",
    "        ax.set_xlabel('Semantic classes')\n",
    "        ax.set_ylabel('IoU')\n",
    "        ax.set_title(f'IoU of all semantic classes\\n{self.desc}')\n",
    "        plt.show()"
   ]
  },
  {
   "cell_type": "code",
   "execution_count": 23,
   "id": "03290805",
   "metadata": {},
   "outputs": [],
   "source": [
    "bracewell_evaluator = Evaluator(\n",
    "    data_dir = f'{COURSEDIR}/datasets/Rellis-3D',\n",
    "    pred_dir = f'{COURSEDIR}/trainlogs/bracewell01/salsa',\n",
    "    desc     = 'training on 2 GPU, batch size = 12'\n",
    ")"
   ]
  },
  {
   "cell_type": "code",
   "execution_count": 24,
   "id": "ef1e6843",
   "metadata": {},
   "outputs": [],
   "source": [
    "ec2_evaluator = Evaluator(\n",
    "    data_dir = f'{COURSEDIR}/datasets/Rellis-3D',\n",
    "    pred_dir = f'{COURSEDIR}/trainlogs/ec2-01/salsa',\n",
    "    desc     = 'training on 1 GPU, batch size = 7'\n",
    ")"
   ]
  },
  {
   "cell_type": "code",
   "execution_count": 25,
   "id": "01c39161",
   "metadata": {
    "scrolled": false
   },
   "outputs": [
    {
     "name": "stderr",
     "output_type": "stream",
     "text": [
      "100%|█████████████████████████████████████████████████████████████████████████████████████████████████████████████████████████████████████████████████████████████████████████| 3343/3343 [00:26<00:00, 126.25it/s]\n"
     ]
    },
    {
     "data": {
      "text/plain": [
       "(array([0.00000000e+00, 6.31296815e-01, 6.27230400e-01, 1.06237230e-01,\n",
       "        0.00000000e+00, 1.80485843e-01, 1.66911910e-03, 2.99500717e-02,\n",
       "        2.03421673e-02, 5.78547076e-01, 5.32406087e-01, 2.94245267e-01,\n",
       "        2.22003223e-01, 6.43308310e-02, 6.01974476e-04]),\n",
       " 0.2192897402859991)"
      ]
     },
     "execution_count": 25,
     "metadata": {},
     "output_type": "execute_result"
    }
   ],
   "source": [
    "bracewell_evaluator.calc_iou()"
   ]
  },
  {
   "cell_type": "code",
   "execution_count": 26,
   "id": "1448331e",
   "metadata": {},
   "outputs": [
    {
     "data": {
      "image/png": "[encoded data removed]",
      "text/plain": [
       "<Figure size 432x288 with 1 Axes>"
      ]
     },
     "metadata": {
      "needs_background": "light"
     },
     "output_type": "display_data"
    }
   ],
   "source": [
    "bracewell_evaluator.plot_iou()"
   ]
  },
  {
   "cell_type": "code",
   "execution_count": 27,
   "id": "edde7bd6",
   "metadata": {},
   "outputs": [
    {
     "name": "stderr",
     "output_type": "stream",
     "text": [
      "100%|█████████████████████████████████████████████████████████████████████████████████████████████████████████████████████████████████████████████████████████████████████████| 3343/3343 [00:26<00:00, 127.12it/s]\n"
     ]
    },
    {
     "data": {
      "text/plain": [
       "(array([0.        , 0.6351376 , 0.55123083, 0.04137939, 0.        ,\n",
       "        0.14487659, 0.052691  , 0.0344269 , 0.02428534, 0.50979746,\n",
       "        0.55691995, 0.66751511, 0.21847499, 0.10851241, 0.01055645]),\n",
       " 0.23705360124698946)"
      ]
     },
     "execution_count": 27,
     "metadata": {},
     "output_type": "execute_result"
    }
   ],
   "source": [
    "ec2_evaluator.calc_iou()"
   ]
  },
  {
   "cell_type": "code",
   "execution_count": 28,
   "id": "7a37d7ac",
   "metadata": {},
   "outputs": [
    {
     "data": {
      "image/png": "[encoded data removed]",
      "text/plain": [
       "<Figure size 432x288 with 1 Axes>"
      ]
     },
     "metadata": {
      "needs_background": "light"
     },
     "output_type": "display_data"
    }
   ],
   "source": [
    "ec2_evaluator.plot_iou()"
   ]
  }
 ],
 "metadata": {
  "kernelspec": {
   "display_name": "Python 3 (ipykernel)",
   "language": "python",
   "name": "python3"
  },
  "language_info": {
   "codemirror_mode": {
    "name": "ipython",
    "version": 3
   },
   "file_extension": ".py",
   "mimetype": "text/x-python",
   "name": "python",
   "nbconvert_exporter": "python",
   "pygments_lexer": "ipython3",
   "version": "3.7.4"
  }
 },
 "nbformat": 4,
 "nbformat_minor": 5
}
