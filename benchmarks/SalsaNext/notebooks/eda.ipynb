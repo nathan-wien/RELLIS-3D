{
 "cells": [
  {
   "cell_type": "code",
   "execution_count": 3,
   "id": "1b31228c",
   "metadata": {
    "collapsed": true
   },
   "outputs": [
    {
     "name": "stderr",
     "output_type": "stream",
     "text": [
      "\n",
      "Bad key text.latex.unicode in file /home/nhat/miniconda3/envs/salsanext/lib/python3.7/site-packages/matplotlib/mpl-data/stylelib/_classic_test.mplstyle, line 112 ('text.latex.unicode : False # use \"ucs\" and \"inputenc\" LaTeX packages for handling')\n",
      "You probably need to get an updated matplotlibrc file from\n",
      "https://github.com/matplotlib/matplotlib/blob/v3.3.4/matplotlibrc.template\n",
      "or from the matplotlib source distribution\n",
      "\n",
      "Bad key savefig.frameon in file /home/nhat/miniconda3/envs/salsanext/lib/python3.7/site-packages/matplotlib/mpl-data/stylelib/_classic_test.mplstyle, line 423 ('savefig.frameon : True')\n",
      "You probably need to get an updated matplotlibrc file from\n",
      "https://github.com/matplotlib/matplotlib/blob/v3.3.4/matplotlibrc.template\n",
      "or from the matplotlib source distribution\n",
      "\n",
      "Bad key pgf.debug in file /home/nhat/miniconda3/envs/salsanext/lib/python3.7/site-packages/matplotlib/mpl-data/stylelib/_classic_test.mplstyle, line 444 ('pgf.debug           : False')\n",
      "You probably need to get an updated matplotlibrc file from\n",
      "https://github.com/matplotlib/matplotlib/blob/v3.3.4/matplotlibrc.template\n",
      "or from the matplotlib source distribution\n",
      "\n",
      "Bad key verbose.level in file /home/nhat/miniconda3/envs/salsanext/lib/python3.7/site-packages/matplotlib/mpl-data/stylelib/_classic_test.mplstyle, line 475 ('verbose.level  : silent      # one of silent, helpful, debug, debug-annoying')\n",
      "You probably need to get an updated matplotlibrc file from\n",
      "https://github.com/matplotlib/matplotlib/blob/v3.3.4/matplotlibrc.template\n",
      "or from the matplotlib source distribution\n",
      "\n",
      "Bad key verbose.fileo in file /home/nhat/miniconda3/envs/salsanext/lib/python3.7/site-packages/matplotlib/mpl-data/stylelib/_classic_test.mplstyle, line 476 ('verbose.fileo  : sys.stdout  # a log filename, sys.stdout or sys.stderr')\n",
      "You probably need to get an updated matplotlibrc file from\n",
      "https://github.com/matplotlib/matplotlib/blob/v3.3.4/matplotlibrc.template\n",
      "or from the matplotlib source distribution\n",
      "In /home/nhat/miniconda3/envs/salsanext/lib/python3.7/site-packages/matplotlib/mpl-data/stylelib/_classic_test.mplstyle: \n",
      "The text.latex.preview rcparam was deprecated in Matplotlib 3.3 and will be removed two minor releases later.\n",
      "In /home/nhat/miniconda3/envs/salsanext/lib/python3.7/site-packages/matplotlib/mpl-data/stylelib/_classic_test.mplstyle: \n",
      "The mathtext.fallback_to_cm rcparam was deprecated in Matplotlib 3.3 and will be removed two minor releases later.\n",
      "In /home/nhat/miniconda3/envs/salsanext/lib/python3.7/site-packages/matplotlib/mpl-data/stylelib/_classic_test.mplstyle: Support for setting the 'mathtext.fallback_to_cm' rcParam is deprecated since 3.3 and will be removed two minor releases later; use 'mathtext.fallback : 'cm' instead.\n",
      "In /home/nhat/miniconda3/envs/salsanext/lib/python3.7/site-packages/matplotlib/mpl-data/stylelib/_classic_test.mplstyle: \n",
      "The validate_bool_maybe_none function was deprecated in Matplotlib 3.3 and will be removed two minor releases later.\n",
      "In /home/nhat/miniconda3/envs/salsanext/lib/python3.7/site-packages/matplotlib/mpl-data/stylelib/_classic_test.mplstyle: \n",
      "The savefig.jpeg_quality rcparam was deprecated in Matplotlib 3.3 and will be removed two minor releases later.\n",
      "In /home/nhat/miniconda3/envs/salsanext/lib/python3.7/site-packages/matplotlib/mpl-data/stylelib/_classic_test.mplstyle: \n",
      "The keymap.all_axes rcparam was deprecated in Matplotlib 3.3 and will be removed two minor releases later.\n",
      "In /home/nhat/miniconda3/envs/salsanext/lib/python3.7/site-packages/matplotlib/mpl-data/stylelib/_classic_test.mplstyle: \n",
      "The animation.avconv_path rcparam was deprecated in Matplotlib 3.3 and will be removed two minor releases later.\n",
      "In /home/nhat/miniconda3/envs/salsanext/lib/python3.7/site-packages/matplotlib/mpl-data/stylelib/_classic_test.mplstyle: \n",
      "The animation.avconv_args rcparam was deprecated in Matplotlib 3.3 and will be removed two minor releases later.\n"
     ]
    }
   ],
   "source": [
    "import os\n",
    "import yaml\n",
    "\n",
    "import numpy as np\n",
    "import pandas as pd\n",
    "from matplotlib import pyplot as plt\n",
    "import seaborn as sns\n",
    "from tqdm import tqdm, trange"
   ]
  },
  {
   "cell_type": "code",
   "execution_count": 15,
   "id": "a10e10a3",
   "metadata": {},
   "outputs": [],
   "source": [
    "HOMEDIR = os.environ['HOME']\n",
    "COURSEDIR = f\"{HOMEDIR}/work/uq/engg4811\"\n",
    "DATADIR = f\"{COURSEDIR}/datasets/Rellis-3D\""
   ]
  },
  {
   "cell_type": "code",
   "execution_count": 16,
   "id": "fc0ec81a",
   "metadata": {},
   "outputs": [],
   "source": [
    "DATA_CONFIG_FILE = \"../train/tasks/semantic/config/labels/rellis.yaml\"\n",
    "CONFIG = yaml.safe_load(open(DATA_CONFIG_FILE, 'r'))"
   ]
  },
  {
   "cell_type": "code",
   "execution_count": 17,
   "id": "b1046972",
   "metadata": {},
   "outputs": [],
   "source": [
    "# Map labels to class ids\n",
    "CID_MAP = CONFIG['learning_map']"
   ]
  },
  {
   "cell_type": "code",
   "execution_count": 18,
   "id": "5798784a",
   "metadata": {},
   "outputs": [],
   "source": [
    "# Map class ids to class names\n",
    "NAME_MAP = dict()\n",
    "for cid, label in CONFIG['learning_map_inv'].items():\n",
    "    NAME_MAP[cid] = CONFIG['labels'][label]\n",
    "    \n",
    "CLASS_NAMES = [NAME_MAP[i] for i in range(len(NAME_MAP))]"
   ]
  },
  {
   "cell_type": "code",
   "execution_count": 19,
   "id": "6e43fe51",
   "metadata": {},
   "outputs": [],
   "source": [
    "\"\"\"\n",
    "Get a vector of labels\n",
    "\"\"\"\n",
    "def get_labels(filepath):\n",
    "    return np.fromfile(filepath, dtype=np.int32).reshape((-1))"
   ]
  },
  {
   "cell_type": "code",
   "execution_count": 20,
   "id": "96c724d7",
   "metadata": {},
   "outputs": [],
   "source": [
    "\"\"\"\n",
    "Convert a label vector to a class id vector\n",
    "\"\"\"\n",
    "def labels_to_cids(labels):\n",
    "    tmp = labels.copy()\n",
    "    for k, v in CID_MAP.items():\n",
    "        labels[tmp == k] = v\n",
    "    return labels"
   ]
  },
  {
   "cell_type": "code",
   "execution_count": 49,
   "id": "214ea734",
   "metadata": {},
   "outputs": [],
   "source": [
    "def get_split_frequency():\n",
    "#     assert(split_name in [\"pt_train\", \"pt_test\", \"pt_val\"])\n",
    "    label_filenames = []\n",
    "\n",
    "#     with open(f'{DATADIR}/{split_name}.lst', 'r') as f:\n",
    "    with open(f'{split_name}.lst', 'r') as f:\n",
    "        for line in f:\n",
    "            label_filename = line.strip().split(' ')[1]\n",
    "            label_filenames.append(label_filename)\n",
    "\n",
    "    n = len(CLASS_NAMES)\n",
    "    count = np.zeros(n, dtype=np.int32)\n",
    "\n",
    "    for fname in tqdm(label_filenames):\n",
    "        glabels = get_labels(f'{DATADIR}/{fname}')\n",
    "        g = labels_to_cids(glabels)\n",
    "        bins = np.bincount(g)\n",
    "        bins = np.pad(bins, (0, n - len(bins)), 'constant')\n",
    "        count = count + bins\n",
    "\n",
    "    return count"
   ]
  },
  {
   "cell_type": "code",
   "execution_count": 25,
   "id": "9b1cb1e9",
   "metadata": {},
   "outputs": [
    {
     "name": "stderr",
     "output_type": "stream",
     "text": [
      "100%|█████████████████████████████████████████████████████████████████████████████████████████████████████████████████████████████████████████████████████████████████████████| 2034/2034 [00:03<00:00, 555.11it/s]\n"
     ]
    }
   ],
   "source": [
    "fval = get_split_frequency('pt_val')"
   ]
  },
  {
   "cell_type": "code",
   "execution_count": 26,
   "id": "f824ca69",
   "metadata": {},
   "outputs": [
    {
     "name": "stdout",
     "output_type": "stream",
     "text": [
      "class: void    => 139221198\n",
      "class: grass    => 13829166\n",
      "class: tree    => 8835696\n",
      "class: pole    => 0\n",
      "class: water    => 0\n",
      "class: vehicle    => 0\n",
      "class: log    => 0\n",
      "class: person    => 22374\n",
      "class: fence    => 0\n",
      "class: bush    => 97534368\n",
      "class: concrete    => 2808954\n",
      "class: barrier    => 518670\n",
      "class: puddle    => 26442\n",
      "class: mud    => 3803580\n",
      "class: rubble    => 0\n"
     ]
    }
   ],
   "source": [
    "for i, c in enumerate(CLASS_NAMES):\n",
    "    print(f'class: {c}    => {fval[i]}')"
   ]
  },
  {
   "cell_type": "code",
   "execution_count": 27,
   "id": "75fa9a9b",
   "metadata": {},
   "outputs": [
    {
     "name": "stderr",
     "output_type": "stream",
     "text": [
      "100%|█████████████████████████████████████████████████████████████████████████████████████████████████████████████████████████████████████████████████████████████████████████| 9486/9486 [00:18<00:00, 517.71it/s]\n"
     ]
    }
   ],
   "source": [
    "ftrain = get_split_frequency('pt_train')"
   ]
  },
  {
   "cell_type": "code",
   "execution_count": 28,
   "id": "a39e6b94",
   "metadata": {},
   "outputs": [
    {
     "name": "stdout",
     "output_type": "stream",
     "text": [
      "class: void    => 629282268\n",
      "class: grass    => 459625158\n",
      "class: tree    => 42876720\n",
      "class: pole    => 0\n",
      "class: water    => 0\n",
      "class: vehicle    => 768366\n",
      "class: log    => 0\n",
      "class: person    => 3395988\n",
      "class: fence    => 0\n",
      "class: bush    => 93731166\n",
      "class: concrete    => 123318\n",
      "class: barrier    => 0\n",
      "class: puddle    => 2191266\n",
      "class: mud    => 11354742\n",
      "class: rubble    => 0\n"
     ]
    }
   ],
   "source": [
    "for i, c in enumerate(CLASS_NAMES):\n",
    "    print(f'class: {c}    => {ftrain[i]}')"
   ]
  },
  {
   "cell_type": "code",
   "execution_count": 30,
   "id": "bb93a375",
   "metadata": {},
   "outputs": [
    {
     "name": "stderr",
     "output_type": "stream",
     "text": [
      "100%|█████████████████████████████████████████████████████████████████████████████████████████████████████████████████████████████████████████████████████████████████████████| 2036/2036 [00:04<00:00, 466.47it/s]\n"
     ]
    }
   ],
   "source": [
    "ftest = get_split_frequency('pt_test')"
   ]
  },
  {
   "cell_type": "code",
   "execution_count": 31,
   "id": "fa4e98aa",
   "metadata": {},
   "outputs": [
    {
     "name": "stdout",
     "output_type": "stream",
     "text": [
      "class: void    => 95042516\n",
      "class: grass    => 65318952\n",
      "class: tree    => 53192536\n",
      "class: pole    => 0\n",
      "class: water    => 0\n",
      "class: vehicle    => 0\n",
      "class: log    => 0\n",
      "class: person    => 1050576\n",
      "class: fence    => 0\n",
      "class: bush    => 48477160\n",
      "class: concrete    => 0\n",
      "class: barrier    => 0\n",
      "class: puddle    => 12216\n",
      "class: mud    => 3764564\n",
      "class: rubble    => 4072\n"
     ]
    }
   ],
   "source": [
    "for i, c in enumerate(CLASS_NAMES):\n",
    "    print(f'class: {c}    => {ftest[i]}')"
   ]
  },
  {
   "cell_type": "code",
   "execution_count": 15,
   "id": "9863c21c",
   "metadata": {},
   "outputs": [],
   "source": [
    "from os import listdir\n",
    "from os.path import isfile, join\n",
    "\n",
    "def get_sequence_frequency(seq):\n",
    "    assert(seq in ['00000', '00001', '00002', '00003', '00004'])\n",
    "    seq_dir = f'{DATADIR}/{seq}/os1_cloud_node_semantickitti_label_id/'\n",
    "    files = [f for f in listdir(seq_dir) if isfile(join(seq_dir, f))]\n",
    "\n",
    "    n = len(CLASS_NAMES)\n",
    "    count = np.zeros(n, dtype=np.int32)\n",
    "\n",
    "    for filename in tqdm(files):\n",
    "        glabels = get_labels(f'{seq_dir}/{filename}')\n",
    "        g = labels_to_cids(glabels)\n",
    "        bins = np.bincount(g)\n",
    "        bins = np.pad(bins, (0, n - len(bins)), 'constant')\n",
    "        count = count + bins\n",
    "    \n",
    "    \n",
    "    fig = plt.figure()\n",
    "    ax = fig.add_axes([0, 0, 2, 2])\n",
    "    ax.bar(CLASS_NAMES, count)\n",
    "    ax.set_xlabel('Semantic class')\n",
    "    ax.set_ylabel('Fequency (number of points)')\n",
    "    ax.set_title(f'Frequency of all semantic classes - Sequence {seq}')\n",
    "    for index, value in enumerate(count): \n",
    "        ax.text(index, value, str(count[index]), ha='center')\n",
    "    plt.show()\n",
    "\n",
    "    return count"
   ]
  },
  {
   "cell_type": "code",
   "execution_count": null,
   "id": "b4a96958",
   "metadata": {},
   "outputs": [],
   "source": [
    "NUM_SEQS = 5\n",
    "f = [None for _ in range(NUM_SEQS)]\n",
    "\n",
    "for k in range(NUM_SEQS):\n",
    "    f[k] = get_freq_seq(f'0000{k}')\n",
    "    print(f\"Sequence 0000{k}\")\n",
    "    for i, c in enumerate(CLASS_NAMES):\n",
    "        print(f'class: {c}    => {f[k][i]}')"
   ]
  },
  {
   "cell_type": "code",
   "execution_count": 32,
   "id": "06afeb2e",
   "metadata": {},
   "outputs": [],
   "source": [
    "import random\n",
    "from os import listdir\n",
    "from os.path import isfile, join\n",
    "\n",
    "def gen_split(seed=124, split_ratios=[0.7, 0.85]):\n",
    "    random.seed(seed)\n",
    "    train_split_lines = []\n",
    "    val_split_lines = []\n",
    "    test_split_lines = []\n",
    "    bin_dir = 'os1_cloud_node_kitti_bin'\n",
    "    label_dir = 'os1_cloud_node_semantickitti_label_id'\n",
    "    NUM_SEQS = 5\n",
    "    for k in tqdm(range(NUM_SEQS)):\n",
    "        seq = f'0000{k}'\n",
    "        print(f'Sequence: {seq}', end=' - ')\n",
    "        \n",
    "        seq_dir = f'{seq}/os1_cloud_node_semantickitti_label_id'\n",
    "        abs_seq_dir = f'{DATADIR}/{seq_dir}'\n",
    "        \n",
    "        scans = [f[:-6] for f in listdir(abs_seq_dir) if isfile(join(abs_seq_dir, f))]\n",
    "        random.shuffle(scans)\n",
    "        split_idx = [int(len(scans) * r) for r in split_ratios]\n",
    "        print(f'split indices: ({split_idx[0]}, {split_idx[1]})')\n",
    "        \n",
    "        train_split = scans[:split_idx[0]]\n",
    "        val_split = scans[split_idx[0]:split_idx[1]]\n",
    "        test_split = scans[split_idx[1]:]\n",
    "        \n",
    "        train_split_lines += [' '.join([f'{seq}/{bin_dir}/{scan}.bin', f'{seq}/{label_dir}/{scan}.label']) for scan in train_split]\n",
    "        val_split_lines += [' '.join([f'{seq}/{bin_dir}/{scan}.bin', f'{seq}/{label_dir}/{scan}.label']) for scan in val_split]\n",
    "        test_split_lines += [' '.join([f'{seq}/{bin_dir}/{scan}.bin', f'{seq}/{label_dir}/{scan}.label']) for scan in test_split]\n",
    "    \n",
    "    random.shuffle(train_split_lines)\n",
    "    random.shuffle(val_split_lines)\n",
    "    random.shuffle(test_split_lines)\n",
    "    \n",
    "    with open('pt_train.lst', 'w') as f:\n",
    "        for line in train_split_lines:\n",
    "            f.write(line + '\\n')\n",
    "    \n",
    "    with open('pt_val.lst', 'w') as f:\n",
    "        for line in val_split_lines:\n",
    "            f.write(line + '\\n')\n",
    "            \n",
    "    with open('pt_test.lst', 'w') as f:\n",
    "        for line in test_split_lines:\n",
    "            f.write(line + '\\n')"
   ]
  },
  {
   "cell_type": "code",
   "execution_count": 33,
   "id": "d4c1df6e",
   "metadata": {},
   "outputs": [
    {
     "name": "stderr",
     "output_type": "stream",
     "text": [
      "100%|████████████████████████████████████████████████████████████████████████████████████████████████████████████████████████████████████████████████████████████████████████████████| 5/5 [00:00<00:00, 45.44it/s]"
     ]
    },
    {
     "name": "stdout",
     "output_type": "stream",
     "text": [
      "Sequence: 00000 - split indices: (1992, 2419)\n",
      "Sequence: 00001 - split indices: (1623, 1971)\n",
      "Sequence: 00002 - split indices: (2902, 3524)\n",
      "Sequence: 00003 - split indices: (1528, 1856)\n",
      "Sequence: 00004 - split indices: (1441, 1750)\n"
     ]
    },
    {
     "name": "stderr",
     "output_type": "stream",
     "text": [
      "\n"
     ]
    }
   ],
   "source": [
    "gen_split()"
   ]
  },
  {
   "cell_type": "code",
   "execution_count": 38,
   "id": "1058a8e5",
   "metadata": {},
   "outputs": [
    {
     "name": "stderr",
     "output_type": "stream",
     "text": [
      "100%|█████████████████████████████████████████████████████████████████████████████████████████████████████████████████████████████████████████████████████████████████████████| 9486/9486 [00:19<00:00, 483.99it/s]"
     ]
    },
    {
     "name": "stdout",
     "output_type": "stream",
     "text": [
      "class: void         => 629282268\n",
      "class: grass        => 459625158\n",
      "class: tree         => 42876720\n",
      "class: pole         => 0\n",
      "class: water        => 0\n",
      "class: vehicle      => 768366\n",
      "class: log          => 0\n",
      "class: person       => 3395988\n",
      "class: fence        => 0\n",
      "class: bush         => 93731166\n",
      "class: concrete     => 123318\n",
      "class: barrier      => 0\n",
      "class: puddle       => 2191266\n",
      "class: mud          => 11354742\n",
      "class: rubble       => 0\n"
     ]
    },
    {
     "name": "stderr",
     "output_type": "stream",
     "text": [
      "\n"
     ]
    }
   ],
   "source": [
    "ftrain = get_freq_split('pt_train')\n",
    "for i, c in enumerate(CLASS_NAMES):\n",
    "    print(f'class: {c} '.ljust(20) + f'=> {ftrain[i]}')"
   ]
  },
  {
   "cell_type": "code",
   "execution_count": 39,
   "id": "e81d2c2e",
   "metadata": {},
   "outputs": [
    {
     "name": "stderr",
     "output_type": "stream",
     "text": [
      "100%|█████████████████████████████████████████████████████████████████████████████████████████████████████████████████████████████████████████████████████████████████████████| 2034/2034 [00:03<00:00, 530.54it/s]"
     ]
    },
    {
     "name": "stdout",
     "output_type": "stream",
     "text": [
      "class: void         => 139221198\n",
      "class: grass        => 13829166\n",
      "class: tree         => 8835696\n",
      "class: pole         => 0\n",
      "class: water        => 0\n",
      "class: vehicle      => 0\n",
      "class: log          => 0\n",
      "class: person       => 22374\n",
      "class: fence        => 0\n",
      "class: bush         => 97534368\n",
      "class: concrete     => 2808954\n",
      "class: barrier      => 518670\n",
      "class: puddle       => 26442\n",
      "class: mud          => 3803580\n",
      "class: rubble       => 0\n"
     ]
    },
    {
     "name": "stderr",
     "output_type": "stream",
     "text": [
      "\n"
     ]
    }
   ],
   "source": [
    "fval = get_freq_split('pt_val')\n",
    "for i, c in enumerate(CLASS_NAMES):\n",
    "    print(f'class: {c} '.ljust(20) + f'=> {fval[i]}')"
   ]
  },
  {
   "cell_type": "code",
   "execution_count": 40,
   "id": "6e6562cd",
   "metadata": {},
   "outputs": [
    {
     "name": "stderr",
     "output_type": "stream",
     "text": [
      "100%|█████████████████████████████████████████████████████████████████████████████████████████████████████████████████████████████████████████████████████████████████████████| 2036/2036 [00:04<00:00, 444.37it/s]"
     ]
    },
    {
     "name": "stdout",
     "output_type": "stream",
     "text": [
      "class: void         => 95042516\n",
      "class: grass        => 65318952\n",
      "class: tree         => 53192536\n",
      "class: pole         => 0\n",
      "class: water        => 0\n",
      "class: vehicle      => 0\n",
      "class: log          => 0\n",
      "class: person       => 1050576\n",
      "class: fence        => 0\n",
      "class: bush         => 48477160\n",
      "class: concrete     => 0\n",
      "class: barrier      => 0\n",
      "class: puddle       => 12216\n",
      "class: mud          => 3764564\n",
      "class: rubble       => 4072\n"
     ]
    },
    {
     "name": "stderr",
     "output_type": "stream",
     "text": [
      "\n"
     ]
    }
   ],
   "source": [
    "ftest = get_freq_split('pt_test')\n",
    "for i, c in enumerate(CLASS_NAMES):\n",
    "    print(f'class: {c} '.ljust(20) + f'=> {ftest[i]}')"
   ]
  },
  {
   "cell_type": "code",
   "execution_count": 11,
   "id": "ecf76d86",
   "metadata": {},
   "outputs": [
    {
     "data": {
      "text/plain": [
       "2"
      ]
     },
     "execution_count": 11,
     "metadata": {},
     "output_type": "execute_result"
    }
   ],
   "source": [
    "np.maximum(1, 2)"
   ]
  },
  {
   "cell_type": "code",
   "execution_count": 43,
   "id": "fc2178b7",
   "metadata": {},
   "outputs": [
    {
     "name": "stdout",
     "output_type": "stream",
     "text": [
      "split indices: (14, 17)\n"
     ]
    }
   ],
   "source": [
    "a = [i for i in range(20)]\n",
    "split_ratios=[0.7, 0.85]\n",
    "split_idx = [int(len(a) * r) for r in split_ratios]\n",
    "print(f'split indices: ({split_idx[0]}, {split_idx[1]})')"
   ]
  },
  {
   "cell_type": "code",
   "execution_count": 44,
   "id": "83e86c4c",
   "metadata": {},
   "outputs": [],
   "source": [
    "train_split = a[:split_idx[0]]\n",
    "val_split = a[split_idx[0]:split_idx[1]]\n",
    "test_split = a[split_idx[1]:]"
   ]
  },
  {
   "cell_type": "code",
   "execution_count": 45,
   "id": "6b25afd5",
   "metadata": {},
   "outputs": [
    {
     "data": {
      "text/plain": [
       "[0, 1, 2, 3, 4, 5, 6, 7, 8, 9, 10, 11, 12, 13]"
      ]
     },
     "execution_count": 45,
     "metadata": {},
     "output_type": "execute_result"
    }
   ],
   "source": [
    "train_split"
   ]
  },
  {
   "cell_type": "code",
   "execution_count": 46,
   "id": "9692ba1e",
   "metadata": {},
   "outputs": [
    {
     "data": {
      "text/plain": [
       "[14, 15, 16]"
      ]
     },
     "execution_count": 46,
     "metadata": {},
     "output_type": "execute_result"
    }
   ],
   "source": [
    "val_split"
   ]
  },
  {
   "cell_type": "code",
   "execution_count": 47,
   "id": "9af211f7",
   "metadata": {},
   "outputs": [
    {
     "data": {
      "text/plain": [
       "[17, 18, 19]"
      ]
     },
     "execution_count": 47,
     "metadata": {},
     "output_type": "execute_result"
    }
   ],
   "source": [
    "test_split"
   ]
  },
  {
   "cell_type": "code",
   "execution_count": null,
   "id": "e3d76439",
   "metadata": {},
   "outputs": [],
   "source": []
  }
 ],
 "metadata": {
  "kernelspec": {
   "display_name": "Python 3 (ipykernel)",
   "language": "python",
   "name": "python3"
  },
  "language_info": {
   "codemirror_mode": {
    "name": "ipython",
    "version": 3
   },
   "file_extension": ".py",
   "mimetype": "text/x-python",
   "name": "python",
   "nbconvert_exporter": "python",
   "pygments_lexer": "ipython3",
   "version": "3.7.4"
  }
 },
 "nbformat": 4,
 "nbformat_minor": 5
}
